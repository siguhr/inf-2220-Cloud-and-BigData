{
 "cells": [
  {
   "cell_type": "code",
   "execution_count": 1,
   "metadata": {},
   "outputs": [],
   "source": [
    "%matplotlib inline\n",
    "import numpy as np\n",
    "import pandas as pd\n",
    "import matplotlib.pyplot as plt\n",
    "from matplotlib import style\n",
    "import warnings\n",
    "warnings.filterwarnings('ignore')\n",
    "\n",
    "\n",
    "\n"
   ]
  },
  {
   "cell_type": "code",
   "execution_count": 7,
   "metadata": {},
   "outputs": [
    {
     "name": "stdout",
     "output_type": "stream",
     "text": [
      "[[ 1.00000e+00  1.56600e+03  5.76852e-02]\n",
      " [ 1.00000e+00  1.90700e+03 -3.47872e-01]\n",
      " [ 1.00000e+00  2.35500e+03  5.76956e-01]\n",
      " ...\n",
      " [ 6.60000e+02  3.39000e+02  3.20847e-02]\n",
      " [ 6.60000e+02  3.67000e+02  2.29607e-01]\n",
      " [ 6.60000e+02  4.28000e+02  1.60489e+00]]\n"
     ]
    }
   ],
   "source": [
    "ds = np.loadtxt(\"mytxt.txt\")\n",
    "#dataset.head()\n",
    "\n",
    "copy = ds\n",
    "\n",
    "print (ds)"
   ]
  },
  {
   "cell_type": "code",
   "execution_count": 8,
   "metadata": {},
   "outputs": [
    {
     "name": "stdout",
     "output_type": "stream",
     "text": [
      "Total data set: 30000\n",
      "x percentage of total: 6000\n",
      "[[1.00000e+00 1.56600e+03 5.76852e-02]\n",
      " [1.00000e+00 1.90700e+03         nan]\n",
      " [1.00000e+00 2.35500e+03         nan]\n",
      " ...\n",
      " [6.60000e+02 3.39000e+02 3.20847e-02]\n",
      " [6.60000e+02 3.67000e+02 2.29607e-01]\n",
      " [        nan 4.28000e+02         nan]]\n"
     ]
    }
   ],
   "source": [
    "N,M = ds.shape\n",
    "shape = ds.shape\n",
    "# print(shape)\n",
    "\n",
    "tot = M * N\n",
    "print(\"Total data set:\",int(tot))\n",
    "percentage = 0.20                                               # persentage of NAN im array\n",
    "\n",
    "c = int(tot * percentage)\n",
    "print(\"x percentage of total:\", c)\n",
    "ds.ravel()[np.random.choice(ds.size, c, replace=False)] = np.nan\n",
    "print (ds)"
   ]
  },
  {
   "cell_type": "code",
   "execution_count": 9,
   "metadata": {},
   "outputs": [],
   "source": [
    "xs, ys = ds.nonzero()\n",
    "start = 0\n",
    "\n",
    "for x, y in zip(xs, ys):\n",
    "            # print (x)\n",
    "            # print(y)\n",
    "            if  np.isnan(ds[x,y]) != True:\n",
    "                pass\n",
    "            else:\n",
    "                ds[x,y] = start\n"
   ]
  },
  {
   "cell_type": "code",
   "execution_count": 11,
   "metadata": {},
   "outputs": [
    {
     "name": "stdout",
     "output_type": "stream",
     "text": [
      "0\n"
     ]
    },
    {
     "ename": "TypeError",
     "evalue": "'int' object is not callable",
     "output_type": "error",
     "traceback": [
      "\u001b[0;31m---------------------------------------------------------------------------\u001b[0m",
      "\u001b[0;31mTypeError\u001b[0m                                 Traceback (most recent call last)",
      "Cell \u001b[0;32mIn [11], line 10\u001b[0m\n\u001b[1;32m      6\u001b[0m K \u001b[39m=\u001b[39m \u001b[39m2\u001b[39m\n\u001b[1;32m      8\u001b[0m \u001b[39mfor\u001b[39;00m _ \u001b[39min\u001b[39;00m \u001b[39mrange\u001b[39m(iteration):\n\u001b[0;32m---> 10\u001b[0m     diff \u001b[39m=\u001b[39m \u001b[39m-\u001b[39mlearning_rate \u001b[39m*\u001b[39m K(vector)\n\u001b[1;32m     12\u001b[0m     \u001b[39mif\u001b[39;00m np\u001b[39m.\u001b[39mall(np\u001b[39m.\u001b[39mabs(diff) \u001b[39m<\u001b[39m\u001b[39m=\u001b[39m tolerance):\n\u001b[1;32m     14\u001b[0m         \u001b[39mbreak\u001b[39;00m\n",
      "\u001b[0;31mTypeError\u001b[0m: 'int' object is not callable"
     ]
    }
   ],
   "source": [
    "vector = start\n",
    "print (vector)\n",
    "\n",
    "tolerance = 1e-06\n",
    "iteration = 200\n",
    "learning_rate = 0.0000001\n",
    "K = 2\n",
    "\n",
    "for i in range(iteration):\n",
    "\n",
    "    diff = -learning_rate * K(vector)\n",
    "\n",
    "    if np.all(np.abs(diff) <= tolerance):\n",
    "\n",
    "        break\n",
    "\n",
    "    vector += diff\n",
    "\n"
   ]
  }
 ],
 "metadata": {
  "kernelspec": {
   "display_name": "Python 3.8.10 64-bit",
   "language": "python",
   "name": "python3"
  },
  "language_info": {
   "codemirror_mode": {
    "name": "ipython",
    "version": 3
   },
   "file_extension": ".py",
   "mimetype": "text/x-python",
   "name": "python",
   "nbconvert_exporter": "python",
   "pygments_lexer": "ipython3",
   "version": "3.10.6"
  },
  "orig_nbformat": 4,
  "vscode": {
   "interpreter": {
    "hash": "916dbcbb3f70747c44a77c7bcd40155683ae19c65e1c03b4aa3499c5328201f1"
   }
  }
 },
 "nbformat": 4,
 "nbformat_minor": 2
}
