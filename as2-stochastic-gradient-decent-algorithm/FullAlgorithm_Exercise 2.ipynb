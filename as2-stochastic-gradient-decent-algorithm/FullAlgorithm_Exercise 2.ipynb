{
 "cells": [
  {
   "cell_type": "code",
   "execution_count": 2,
   "metadata": {},
   "outputs": [],
   "source": [
    "import numpy as np"
   ]
  },
  {
   "cell_type": "code",
   "execution_count": 3,
   "metadata": {},
   "outputs": [],
   "source": [
    "# Input details\n",
    "a=np.nan;\n",
    "X=np.array([\n",
    "[4, a, 3, 3, 3, 4],\n",
    "[a, 1, 2, 2, 2, 2],\n",
    "[3, 2, 2, a, 2, 2],\n",
    "[2, a, 2, 3, 3, a],\n",
    "[5, 3, 4, 4, a, 4]]);\n",
    "lambda_U=1;\n",
    "lambda_V=1;\n",
    "K=2;"
   ]
  },
  {
   "cell_type": "code",
   "execution_count": 4,
   "metadata": {},
   "outputs": [],
   "source": [
    "# Some fixed preliminary computations\n",
    "N,M=X.shape"
   ]
  },
  {
   "cell_type": "code",
   "execution_count": 5,
   "metadata": {},
   "outputs": [],
   "source": [
    "# Stopping criteria\n",
    "Max_iter=1000;\n",
    "L=np.zeros(Max_iter)\n",
    "L_stop=0.0001;\n",
    "# Random initialization of U and V\n",
    "U=np.random.rand(N+1,K);\n",
    "V=np.random.rand(M+1,K);"
   ]
  },
  {
   "cell_type": "code",
   "execution_count": 6,
   "metadata": {},
   "outputs": [
    {
     "data": {
      "text/plain": [
       "(array([[0.49179965, 0.11899864],\n",
       "        [0.15133971, 0.78670997],\n",
       "        [0.48959377, 0.42315159],\n",
       "        [0.9723632 , 0.91799262],\n",
       "        [0.94301122, 0.17679013],\n",
       "        [0.85485281, 0.38620768]]),\n",
       " array([[0.47942483, 0.73922758],\n",
       "        [0.00434267, 0.72548899],\n",
       "        [0.44429963, 0.65845471],\n",
       "        [0.39468882, 0.29926056],\n",
       "        [0.83670273, 0.84506739],\n",
       "        [0.72284112, 0.77497735],\n",
       "        [0.94861077, 0.49281338]]))"
      ]
     },
     "execution_count": 6,
     "metadata": {},
     "output_type": "execute_result"
    }
   ],
   "source": [
    "U, V"
   ]
  },
  {
   "cell_type": "code",
   "execution_count": 7,
   "metadata": {},
   "outputs": [
    {
     "name": "stdout",
     "output_type": "stream",
     "text": [
      "0.0339628942588178\n",
      "0.0044841837748486255\n",
      "0.0010152159671792049\n",
      "5.6484768416199936e-05\n",
      "Termination at 3 iteration\n"
     ]
    }
   ],
   "source": [
    "vm = {}\n",
    "vmvmt = {}\n",
    "un = {}\n",
    "ununt = {}\n",
    "## Iterative loop\n",
    "for iter in np.arange(0,Max_iter).reshape(-1):\n",
    "    # for updating U\n",
    "# --- First computing v_m * v_m^T\n",
    "    for m in np.arange(0,M).reshape(-1):\n",
    "        vm[m] = np.transpose(V[m,:])\n",
    "        #vm.append(np.transpose(V[m,:]))\n",
    "        vmvmt[m] = vm[m] * np.transpose(vm[m])\n",
    "        #vmvmt.append(vm[m] * np.transpose(vm[m]))\n",
    "    # --- Now computing updated u_n for each n\n",
    "    for n in np.arange(0,N).reshape(-1):\n",
    "        omega_r_n = np.argwhere(~np.isnan(X[n,:]) )\n",
    "        #print(np.isnan(X[n,:]))\n",
    "        sum_vmvmt = np.zeros((K,K))\n",
    "        for m in omega_r_n.reshape(-1):\n",
    "            sum_vmvmt = sum_vmvmt + vmvmt[m]\n",
    "        \n",
    "        first_term = sum_vmvmt + lambda_U * np.eye(K)\n",
    "        first_term_det = np.linalg.det(first_term)\n",
    "        first_term_inv = np.linalg.inv(first_term)\n",
    "        sum_Xnmvm = np.zeros((K,1))\n",
    "        for m in omega_r_n.reshape(-1):\n",
    "            sum_Xnmvm = sum_Xnmvm + X[n,m] * vm[m]\n",
    "        #print(first_term)\n",
    "        un[n] = np.matmul(first_term_inv,sum_Xnmvm)\n",
    "        #un.append(first_term_inv * sum_Xnmvm\n",
    "        #un.append(np.matmul(sum_Xnmvm, first_term))\n",
    "        #print(sum_Xnmvm)\n",
    "        #print(\"U[n,:] = \",U[n,:])\n",
    "        #print(\"un[n] = \",un[n])\n",
    "        U[n,:] = un[n][0]\n",
    "    # for updating V\n",
    "# --- First computing v_m * v_m^T\n",
    "    for n in np.arange(0,N).reshape(-1):\n",
    "        un[n] = np.transpose(U[n,:])\n",
    "        #un.append(np.transpose(U[n,:]))\n",
    "        ununt[n] = un[n] * np.transpose(un[n])\n",
    "        #ununt.append(un[n] * np.transpose(un[n]))\n",
    "    # --- Now computing updated u_n for each n\n",
    "    for m in np.arange(0,M).reshape(-1):\n",
    "        omega_r_m = np.transpose(np.argwhere(~np.isnan(X[:,m]) ))\n",
    "        sum_ununt = np.zeros((K,K))\n",
    "        for n in omega_r_m.reshape(-1):\n",
    "            sum_ununt = sum_ununt + ununt[n]\n",
    "        first_term = sum_ununt + lambda_V * np.eye(K)\n",
    "        first_term_inv = np.linalg.inv(first_term)\n",
    "        sum_Xnmun = np.zeros((K,1))\n",
    "        for n in omega_r_m.reshape(-1):\n",
    "            sum_Xnmun = sum_Xnmun + X[n,m] * un[n]\n",
    "        vm[m] = np.matmul(first_term_inv,sum_Xnmun)\n",
    "        #vm.append(np.matmul(first_term_inv, sum_Xnmun))\n",
    "        V[m,:] = vm[m][0]\n",
    "    # Computing the loss function to see if we can stop\n",
    "# Square loss for all the unknowns\n",
    "    residue = 0\n",
    "    for m in np.arange(0,M).reshape(-1):\n",
    "        for n in np.arange(0,N).reshape(-1):\n",
    "            if np.isnan(X[n,m]):\n",
    "                #do nothing\n",
    "                pass\n",
    "            else:\n",
    "                #residue = (X[n,m] - U[n,:] * np.transpose(V[m,:])) ** 2\n",
    "                #print(\"X[n,m] = \",X[n,m])\n",
    "                #print(\"U[n,:] = \", U[n,:])\n",
    "                #print(\"V[m,:] = \", V[m,:])\n",
    "                residue = ((X[n,m]-np.matmul(U[n,:],V[m,:].T)))**2;\n",
    "    print(residue)\n",
    "    L[iter] = residue\n",
    "    if L[iter] < L_stop:\n",
    "        print('Termination at ' +str(iter)+' iteration')\n",
    "        break\n"
   ]
  },
  {
   "cell_type": "code",
   "execution_count": null,
   "metadata": {},
   "outputs": [],
   "source": []
  }
 ],
 "metadata": {
  "kernelspec": {
   "display_name": "Python 3",
   "language": "python",
   "name": "python3"
  },
  "language_info": {
   "codemirror_mode": {
    "name": "ipython",
    "version": 3
   },
   "file_extension": ".py",
   "mimetype": "text/x-python",
   "name": "python",
   "nbconvert_exporter": "python",
   "pygments_lexer": "ipython3",
   "version": "3.10.6"
  },
  "orig_nbformat": 4,
  "vscode": {
   "interpreter": {
    "hash": "916dbcbb3f70747c44a77c7bcd40155683ae19c65e1c03b4aa3499c5328201f1"
   }
  }
 },
 "nbformat": 4,
 "nbformat_minor": 2
}
